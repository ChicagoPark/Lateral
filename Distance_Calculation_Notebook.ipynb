{
 "cells": [
  {
   "cell_type": "markdown",
   "id": "bf323521",
   "metadata": {},
   "source": [
    "# Distance Calculation Handson"
   ]
  },
  {
   "cell_type": "code",
   "execution_count": 30,
   "id": "545865ba",
   "metadata": {},
   "outputs": [
    {
     "name": "stdout",
     "output_type": "stream",
     "text": [
      "Distance to line(left): 1.6955100822242166 m\n"
     ]
    },
    {
     "data": {
      "image/png": "[encoded data removed]",
      "text/plain": [
       "<Figure size 432x288 with 1 Axes>"
      ]
     },
     "metadata": {
      "needs_background": "light"
     },
     "output_type": "display_data"
    }
   ],
   "source": [
    "import numpy as np\n",
    "import shapely.geometry as geom\n",
    "from shapely.geometry import Point\n",
    "import matplotlib.pyplot as plt\n",
    "\n",
    "class NearestPoint(object):\n",
    "    def __init__(self, left_line, right_line, ax):\n",
    "        self.left_line = left_line\n",
    "        self.right_line = right_line\n",
    "        self.ax = ax\n",
    "        ax.figure.canvas.mpl_connect('button_press_event', self)\n",
    "\n",
    "    def __call__(self, xy_point, side):\n",
    "        assert side == 'left' or side == 'right', 'Type among left or right'\n",
    "        distance = self.left_line.distance(xy_point)\n",
    "        print(f'Distance to line({side}):', distance, 'm')\n",
    "            \n",
    "    def draw_segment(self, object_list):\n",
    "        # determine the points whether those are at the left side or right side.\n",
    "        for i in object_list:\n",
    "            if i[0] <= 0:\n",
    "                left_point_list.append(Point(i[0], i[1]))\n",
    "            else:\n",
    "                right_point_list.append(Point(i[0], i[1]))\n",
    "        # Draw the lateral lane about the left objects\n",
    "        for point in left_point_list:\n",
    "            point_on_line = self.left_line.interpolate(self.left_line.project(point))\n",
    "            self.ax.plot([point.x, point_on_line.x], [point.y, point_on_line.y], \n",
    "                     color='red', marker='o', scalex=False, scaley=False)\n",
    "            fig.canvas.draw()\n",
    "            # get the distance in meter unit\n",
    "            self.__call__(point, 'left')\n",
    "        # Draw the lateral lane about the right objects\n",
    "        for point in right_point_list:\n",
    "            point_on_line = self.right_line.interpolate(self.right_line.project(point))\n",
    "            self.ax.plot([point.x, point_on_line.x], [point.y, point_on_line.y], \n",
    "                     color='red', marker='o', scalex=False, scaley=False)\n",
    "            fig.canvas.draw()\n",
    "            # get the distance in meter unit\n",
    "            self.__call__(point, 'right')\n",
    "\n",
    "\n",
    "if __name__ == '__main__':\n",
    "    # get the path of 3D points on lanes\n",
    "    l_coords = np.loadtxt('/home/kaai/chicago_ws/src/first_pkg/src/left_lane.txt')\n",
    "    r_coords = np.loadtxt('/home/kaai/chicago_ws/src/first_pkg/src/right_lane.txt')\n",
    "    left_line = geom.LineString(l_coords)\n",
    "    right_line = geom.LineString(r_coords)\n",
    "    \n",
    "    # define object locations\n",
    "    object_list = [[-0.66, 25.21],[-7.22, 38.47], [-4.43, 50.24]]\n",
    "    left_point_list = []\n",
    "    right_point_list = []\n",
    "    max_point = float(l_coords[l_coords.shape[0] - 1][1]) # indicate the maximum value from lane equation\n",
    "    # remove the object point which has bigger value than the maximum point\n",
    "    for i in range(len(object_list)):\n",
    "        if object_list[i][1] > max_point:\n",
    "            del object_list[i:]\n",
    "            break\n",
    "\n",
    "    # Plotting Section\n",
    "    fig, ax = plt.subplots()\n",
    "    ax.plot(*l_coords.T)\n",
    "    ax.plot(*r_coords.T)\n",
    "    ax.axis('equal')\n",
    "    # Set the frame\n",
    "    ax.set_xlim(-10, 10)\n",
    "    ax.set_ylim(-1, 45)\n",
    "    \n",
    "    # Make the class\n",
    "    distance_class = NearestPoint(left_line, right_line, ax)\n",
    "    distance_class.draw_segment(object_list)\n",
    "    \n",
    "    \n",
    "    plt.show()"
   ]
  },
  {
   "cell_type": "code",
   "execution_count": null,
   "id": "403e3d84",
   "metadata": {},
   "outputs": [],
   "source": []
  }
 ],
 "metadata": {
  "kernelspec": {
   "display_name": "Python 3",
   "language": "python",
   "name": "python3"
  },
  "language_info": {
   "codemirror_mode": {
    "name": "ipython",
    "version": 3
   },
   "file_extension": ".py",
   "mimetype": "text/x-python",
   "name": "python",
   "nbconvert_exporter": "python",
   "pygments_lexer": "ipython3",
   "version": "3.6.13"
  }
 },
 "nbformat": 4,
 "nbformat_minor": 5
}
